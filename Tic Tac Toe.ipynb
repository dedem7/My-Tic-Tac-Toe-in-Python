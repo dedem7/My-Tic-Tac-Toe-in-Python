{
 "cells": [
  {
   "cell_type": "markdown",
   "metadata": {},
   "source": [
    "# My Tic Tac Toe\n",
    "(Using lists and dictionaries)"
   ]
  },
  {
   "cell_type": "markdown",
   "metadata": {},
   "source": [
    "**Step 1: Display board**"
   ]
  },
  {
   "cell_type": "code",
   "execution_count": 1,
   "metadata": {
    "code_folding": []
   },
   "outputs": [],
   "source": [
    "def display_board(board=[None]):\n",
    "    if board==[None]:\n",
    "        board=['#']\n",
    "    elif board[0]!='#':\n",
    "        board.insert(0,'#')\n",
    "    else:\n",
    "        pass\n",
    "        \n",
    "    board=[x.upper() for x in board] #all elements as uppercase\n",
    "    \n",
    "    mark='|'  #signs for vertical lines\n",
    "    lines=[1,1,1] \n",
    "    \n",
    "   \n",
    "    lst=[0,1, 2, 3, 4, 5, 6, 7, 8, 9] #list to match positions\n",
    "    dic=dict(zip(lst,board))\n",
    "    [dic.update({x:' '}) for x in lst[len(board):]]\n",
    "\n",
    "\n",
    "    for i,x in enumerate(lines):\n",
    "        if i==1:\n",
    "            print(8*' '+f'{dic[7]}'+' '+mark,f'{dic[8]}',mark+' '+f'{dic[9]}')\n",
    "        else:\n",
    "            print(10*' '+mark,' ',mark+2*' ') #        \n",
    "    print(\"      -------------\")\n",
    "    \n",
    "\n",
    "    for i,x in enumerate(lines):\n",
    "        if i==1:\n",
    "            print(8*' '+f'{dic[4]}'+' '+mark,f'{dic[5]}',mark+' '+f'{dic[6]}')\n",
    "        else:\n",
    "            print(10*' '+mark,' ',mark+2*' ')\n",
    "    print(\"      -------------\")\n",
    "\n",
    "\n",
    "    for i,x in enumerate(lines):\n",
    "        if i==1:\n",
    "            print(8*' '+f'{dic[1]}'+' '+mark,f'{dic[2]}',mark+' '+ f'{dic[3]}')\n",
    "        else:\n",
    "            print(10*' '+mark,' ',mark+2*' ')\n",
    "    "
   ]
  },
  {
   "cell_type": "code",
   "execution_count": 2,
   "metadata": {},
   "outputs": [
    {
     "name": "stdout",
     "output_type": "stream",
     "text": [
      "          |   |  \n",
      "          |   |  \n",
      "          |   |  \n",
      "      -------------\n",
      "          |   |  \n",
      "          |   |  \n",
      "          |   |  \n",
      "      -------------\n",
      "          |   |  \n",
      "          |   |  \n",
      "          |   |  \n"
     ]
    }
   ],
   "source": [
    "display_board()"
   ]
  },
  {
   "cell_type": "code",
   "execution_count": 30,
   "metadata": {},
   "outputs": [
    {
     "name": "stdout",
     "output_type": "stream",
     "text": [
      "          |   |  \n",
      "        X | O | X\n",
      "          |   |  \n",
      "      -------------\n",
      "          |   |  \n",
      "        O | X | O\n",
      "          |   |  \n",
      "      -------------\n",
      "          |   |  \n",
      "        O | O | X\n",
      "          |   |  \n"
     ]
    }
   ],
   "source": [
    "test_board = ['O','O','X','O','X','O','X','O','X']\n",
    "display_board(test_board)"
   ]
  },
  {
   "cell_type": "markdown",
   "metadata": {},
   "source": [
    "**Introducing with number of each board's cell.**"
   ]
  },
  {
   "cell_type": "code",
   "execution_count": null,
   "metadata": {},
   "outputs": [],
   "source": [
    "def sample_board(board=[None]):\n",
    "    if board==[None]:\n",
    "        board=['#']\n",
    "    elif board[0]!='#':\n",
    "        board.insert(0,'#')\n",
    "    else:\n",
    "        pass\n",
    "        \n",
    "    board=[x.upper() for x in board] #all elements as uppercase\n",
    "    \n",
    "    mark='|'  #signs for vertical lines\n",
    "    lines=[1,1,1] \n",
    "    \n",
    "   \n",
    "    lst=[0,1, 2, 3, 4, 5, 6, 7, 8, 9] #list to match positions\n",
    "    dic=dict(zip(lst,board))\n",
    "    [dic.update({x:' '}) for x in lst[len(board):]]\n",
    "\n",
    "    print(\"*Numbers of cell positions*\")\n",
    "    for i,x in enumerate(lines):\n",
    "        if i==1:\n",
    "            print(8*' '+f'7'+' '+mark,f'8',mark+' '+f'9')\n",
    "        else:\n",
    "            print(10*' '+mark,' ',mark+2*' ') #        \n",
    "    print(\"      -------------\")\n",
    "    \n",
    "\n",
    "    for i,x in enumerate(lines):\n",
    "        if i==1:\n",
    "            print(8*' '+f'4'+' '+mark,f'5',mark+' '+f'6')\n",
    "        else:\n",
    "            print(10*' '+mark,' ',mark+2*' ')\n",
    "    print(\"      -------------\")\n",
    "\n",
    "\n",
    "    for i,x in enumerate(lines):\n",
    "        if i==1:\n",
    "            print(8*' '+f'1'+' '+mark,f'2',mark+' '+ f'3')\n",
    "        else:\n",
    "            print(10*' '+mark,' ',mark+2*' ')\n",
    "    "
   ]
  },
  {
   "cell_type": "code",
   "execution_count": 42,
   "metadata": {},
   "outputs": [
    {
     "name": "stdout",
     "output_type": "stream",
     "text": [
      "*Numbers of cell positions*\n",
      "          |   |  \n",
      "        7 | 8 | 9\n",
      "          |   |  \n",
      "      -------------\n",
      "          |   |  \n",
      "        4 | 5 | 6\n",
      "          |   |  \n",
      "      -------------\n",
      "          |   |  \n",
      "        1 | 2 | 3\n",
      "          |   |  \n"
     ]
    }
   ],
   "source": [
    "sample_board()"
   ]
  },
  {
   "cell_type": "markdown",
   "metadata": {},
   "source": [
    "**Step 2: Function that asks for player names and randomly chooses who starts first.**"
   ]
  },
  {
   "cell_type": "code",
   "execution_count": 55,
   "metadata": {},
   "outputs": [],
   "source": [
    "from random import shuffle\n",
    "from IPython.display import clear_output\n",
    "\n",
    "def choose_first():\n",
    "    #repeat='Y'\n",
    "    #while repeat=='Y':\n",
    "    lst=['X','O']\n",
    "    player1=''\n",
    "    player2=''\n",
    "    while player1=='':\n",
    "        player1=input(\"Name of Player 1: \").strip()\n",
    "    while player2=='':\n",
    "        player2=input(\"Name of Player 2: \").strip()\n",
    "    print(\"-------------------------------------\")\n",
    "    choose_first.first_start=[player1,player2]\n",
    "    shuffle(choose_first.first_start)\n",
    "    print(f'First starts: {choose_first.first_start[0].capitalize()}')\n",
    "    print(\"-------------------------------------\")\n",
    "        \n"
   ]
  },
  {
   "cell_type": "code",
   "execution_count": 200,
   "metadata": {},
   "outputs": [
    {
     "name": "stdout",
     "output_type": "stream",
     "text": [
      "Name of Player 1: Alex\n",
      "Name of Player 2: Bob\n",
      "-------------------------------------\n",
      "First starts: Bob\n",
      "-------------------------------------\n"
     ]
    }
   ],
   "source": [
    "choose_first()"
   ]
  },
  {
   "cell_type": "markdown",
   "metadata": {},
   "source": [
    "**Step 3: Function that asks for first player to choose prefered marker (X or O). As an output it stores in a dictionary markers and their corresponding players**"
   ]
  },
  {
   "cell_type": "code",
   "execution_count": 56,
   "metadata": {},
   "outputs": [],
   "source": [
    "def player_input():\n",
    "    lst=['X','O']\n",
    "    player_input.marker1=' '\n",
    "    while player_input.marker1 not in lst:\n",
    "        player_input.marker1=input(f\"{choose_first.first_start[0].capitalize()},choose your marker 'X' or 'O': \").upper()\n",
    "    if player_input.marker1=='X':\n",
    "        player_input.marker2='O'\n",
    "    else:\n",
    "        player_input.marker2='X'\n",
    "    print(f'{choose_first.first_start[0].capitalize()} has \"{player_input.marker1}\"')\n",
    "    print(f'{choose_first.first_start[1].capitalize()} has \"{player_input.marker2}\"')\n",
    "    player_input.dic={player_input.marker1:choose_first.first_start[0].capitalize(),player_input.marker2:choose_first.first_start[1].capitalize()}\n",
    "    return player_input.dic"
   ]
  },
  {
   "cell_type": "code",
   "execution_count": 201,
   "metadata": {},
   "outputs": [
    {
     "name": "stdout",
     "output_type": "stream",
     "text": [
      "Bob,choose your marker 'X' or 'O': x\n",
      "Bob has \"X\"\n",
      "Alex has \"O\"\n"
     ]
    },
    {
     "data": {
      "text/plain": [
       "{'X': 'Bob', 'O': 'Alex'}"
      ]
     },
     "execution_count": 201,
     "metadata": {},
     "output_type": "execute_result"
    }
   ],
   "source": [
    "player_input()"
   ]
  },
  {
   "cell_type": "markdown",
   "metadata": {},
   "source": [
    "**Step 4: Function checks whether the position on board is free or not.**"
   ]
  },
  {
   "cell_type": "code",
   "execution_count": 202,
   "metadata": {},
   "outputs": [],
   "source": [
    "def space_check(board, position):\n",
    "    if '#' not in board:\n",
    "        board.insert(0,'#')\n",
    "    else:\n",
    "        pass\n",
    "    board=board+(10-len(board))*[' ']\n",
    "    \n",
    "    if position in range(1,10) and board[position]==' ':\n",
    "        return True\n",
    "        #print(\"Free\")\n",
    "    elif position not in range(1,10):\n",
    "        print(\"Position accepts only integer from 1 to 9\")\n",
    "        return False\n",
    "    else:\n",
    "        print(\"Cell is busy\")\n",
    "        return False "
   ]
  },
  {
   "cell_type": "code",
   "execution_count": 204,
   "metadata": {},
   "outputs": [
    {
     "name": "stdout",
     "output_type": "stream",
     "text": [
      "Cell is busy\n"
     ]
    },
    {
     "data": {
      "text/plain": [
       "False"
      ]
     },
     "execution_count": 204,
     "metadata": {},
     "output_type": "execute_result"
    }
   ],
   "source": [
    "space_check(['X'],1)"
   ]
  },
  {
   "cell_type": "code",
   "execution_count": 205,
   "metadata": {},
   "outputs": [
    {
     "data": {
      "text/plain": [
       "True"
      ]
     },
     "execution_count": 205,
     "metadata": {},
     "output_type": "execute_result"
    }
   ],
   "source": [
    "space_check([' '],1)"
   ]
  },
  {
   "cell_type": "markdown",
   "metadata": {},
   "source": [
    "**Step 5: Function checks for winner.**"
   ]
  },
  {
   "cell_type": "code",
   "execution_count": 58,
   "metadata": {},
   "outputs": [],
   "source": [
    "def win_check(board, mark):\n",
    "    if board==[]:\n",
    "        board=['#']\n",
    "    else:\n",
    "        if board[0]!='#':\n",
    "            board.insert(0,'#')\n",
    "    \n",
    "    if len(board)<10:\n",
    "        board[len(board):10]=' '*(10-len(board))\n",
    "    elif len(board)>10:\n",
    "        board=board[:10]\n",
    "    else:\n",
    "        pass\n",
    "    \n",
    "    \n",
    "    board=[x.upper() for x in board]\n",
    "\n",
    "    mark=mark.upper()\n",
    "    \n",
    "    win_list={1:[1,5,9],2:[1,2,3],3:[1,4,7],4:[2,5,8],5:[3,5,7],6:[3,6,9],7:[4,5,6],8:[7,8,9]} #positions of board where X or O win\n",
    "    \n",
    "    lst=[[] for _ in win_list]#new list to store list of marks mapping to corr. position\n",
    "    [lst[key-1].extend([board[j]]) for key,value in win_list.items() for i,j in enumerate(value)] #mapped list of marks\n",
    "    \n",
    "    X_win=['X','X','X']\n",
    "    O_win=['O','O','O']\n",
    "    \n",
    "    if mark=='X' and X_win in lst:\n",
    "        print(f\"***Congrats, {player_input.dic['X']} won!***\")\n",
    "        return True\n",
    "    elif mark=='O' and O_win in lst:\n",
    "        print(f\"***Congrats, {player_input.dic['O']} won!***\")\n",
    "        return True\n",
    "    else:\n",
    "        print(\"No winner yet\")\n",
    "        return False"
   ]
  },
  {
   "cell_type": "code",
   "execution_count": 206,
   "metadata": {},
   "outputs": [
    {
     "name": "stdout",
     "output_type": "stream",
     "text": [
      "***Congrats, Bob won!***\n"
     ]
    },
    {
     "data": {
      "text/plain": [
       "True"
      ]
     },
     "execution_count": 206,
     "metadata": {},
     "output_type": "execute_result"
    }
   ],
   "source": [
    "win_check(['X','X','X'],'x')"
   ]
  },
  {
   "cell_type": "markdown",
   "metadata": {},
   "source": [
    "**Step 6: Along with functions above, this function takes  players inputs as number(1-9) and stores player's mark to the number of chosen cell. Function will run until board is full or there is a winner.**"
   ]
  },
  {
   "cell_type": "code",
   "execution_count": 214,
   "metadata": {},
   "outputs": [],
   "source": [
    "def player_choice(board=[None]):\n",
    "    import sys\n",
    "    if board!=[None]:\n",
    "        board.insert(0,' ')\n",
    "        [board.append(' ') for _ in range(1,11-len(board))]\n",
    "    else:\n",
    "        board=['#']+[' ']*9\n",
    " \n",
    "    while True:\n",
    "        \n",
    "        player_choice.position1=''\n",
    "        while space_check(board,player_choice.position1) is False:#####\n",
    "            display_board(board)\n",
    "            player_choice.position1=input(f\"Your turn {choose_first.first_start[0].capitalize()} ({player_input.marker1}): \")\n",
    "            if player_choice.position1.isdigit():\n",
    "                player_choice.position1=int(player_choice.position1)\n",
    "            elif player_choice.position1=='q':\n",
    "                return (\"You have exited\")\n",
    "            else:\n",
    "                pass\n",
    "            clear_output()\n",
    "        \n",
    "        board[player_choice.position1]=player_input.marker1#inserts inputs to the list\n",
    "        \n",
    "        \n",
    "        a=win_check(board,player_input.marker1)\n",
    "        if a is True or ' 'not in board:\n",
    "            break   \n",
    "        else:  \n",
    "            clear_output()\n",
    "            player_choice.position2=''\n",
    "            while space_check(board, player_choice.position2) is False:\n",
    "                display_board(board)\n",
    "                player_choice.position2=input(f\"Your turn {choose_first.first_start[1].capitalize()} ({player_input.marker2}): \")\n",
    "                if player_choice.position2.isdigit():\n",
    "                    player_choice.position2=int(player_choice.position2)\n",
    "                elif player_choice.position2=='q':\n",
    "                    return (\"You have exited\")\n",
    "                else:\n",
    "                    pass\n",
    "                clear_output()\n",
    "             \n",
    "            board[player_choice.position2]=player_input.marker2#insert input to the list\n",
    "            \n",
    "            \n",
    "            b=win_check(board,player_input.marker2)\n",
    "            if b is True or ' ' not in board:\n",
    "                break\n",
    "            else:\n",
    "                display_board(board)\n",
    "                clear_output()     \n",
    "                \n",
    "    display_board(board)"
   ]
  },
  {
   "cell_type": "code",
   "execution_count": 215,
   "metadata": {},
   "outputs": [
    {
     "name": "stdout",
     "output_type": "stream",
     "text": [
      "Position accepts only integer from 1 to 9\n",
      "          |   |  \n",
      "          |   |  \n",
      "          |   |  \n",
      "      -------------\n",
      "          |   |  \n",
      "          |   |  \n",
      "          |   |  \n",
      "      -------------\n",
      "          |   |  \n",
      "        X | O |  \n",
      "          |   |  \n",
      "Your turn Bob (X): q\n"
     ]
    },
    {
     "data": {
      "text/plain": [
       "'You have exited'"
      ]
     },
     "execution_count": 215,
     "metadata": {},
     "output_type": "execute_result"
    }
   ],
   "source": [
    "player_choice()"
   ]
  },
  {
   "cell_type": "markdown",
   "metadata": {},
   "source": [
    "**Step 7: At the end of each game, function will ask from players whether they want to repeat game again.**"
   ]
  },
  {
   "cell_type": "code",
   "execution_count": 21,
   "metadata": {},
   "outputs": [],
   "source": [
    "def replay():\n",
    "    again = ' '\n",
    "    while again not in ['Y','N']:\n",
    "        again=input(\"Do you want to play again? Type 'Y' or 'N': \").upper()\n",
    "        clear_output()\n",
    "    return again=='Y'"
   ]
  },
  {
   "cell_type": "code",
   "execution_count": 216,
   "metadata": {},
   "outputs": [
    {
     "data": {
      "text/plain": [
       "True"
      ]
     },
     "execution_count": 216,
     "metadata": {},
     "output_type": "execute_result"
    }
   ],
   "source": [
    "replay()"
   ]
  },
  {
   "cell_type": "markdown",
   "metadata": {},
   "source": [
    "**Final step (Step 8): Implementation of the game by grabbing all above functions and merging them in order to run as one function.**"
   ]
  },
  {
   "cell_type": "code",
   "execution_count": 211,
   "metadata": {},
   "outputs": [],
   "source": [
    "def play_game():\n",
    "    import time\n",
    "    from IPython.display import clear_output\n",
    "    from random import shuffle\n",
    "\n",
    "    print('Welcome to Tic Tac Toe!')\n",
    "    time.sleep(1)\n",
    "    a=True    \n",
    "    while a:\n",
    "        choose_first()\n",
    "    \n",
    "        player_input()\n",
    "        time.sleep(1)\n",
    "        clear_output()\n",
    "        \n",
    "        sample_board()\n",
    "        time.sleep(2)\n",
    "        clear_output()\n",
    "        print(\"---Game is started--- \\n (press 'q' to stop the game) \\n\")\n",
    "        player_choice()\n",
    "        time.sleep(3)\n",
    "        \n",
    "        a=replay()\n",
    "    print('Nice game!')"
   ]
  },
  {
   "cell_type": "markdown",
   "metadata": {},
   "source": [
    "**Let's play! :-)**"
   ]
  },
  {
   "cell_type": "code",
   "execution_count": 212,
   "metadata": {},
   "outputs": [
    {
     "name": "stdout",
     "output_type": "stream",
     "text": [
      "Nice game!\n"
     ]
    }
   ],
   "source": [
    "play_game()"
   ]
  },
  {
   "cell_type": "markdown",
   "metadata": {
    "collapsed": true
   },
   "source": [
    "### Thank you!\n",
    "Made by Gayrat Dadamirzaev."
   ]
  }
 ],
 "metadata": {
  "kernelspec": {
   "display_name": "Python 3",
   "language": "python",
   "name": "python3"
  },
  "language_info": {
   "codemirror_mode": {
    "name": "ipython",
    "version": 3
   },
   "file_extension": ".py",
   "mimetype": "text/x-python",
   "name": "python",
   "nbconvert_exporter": "python",
   "pygments_lexer": "ipython3",
   "version": "3.7.10"
  }
 },
 "nbformat": 4,
 "nbformat_minor": 1
}
